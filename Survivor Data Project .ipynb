{
 "cells": [
  {
   "cell_type": "code",
   "execution_count": 3,
   "id": "7261380b",
   "metadata": {},
   "outputs": [
    {
     "name": "stdout",
     "output_type": "stream",
     "text": [
      "     contestant_name  age            hometown                profession  \\\n",
      "0  Sonja Christopher   63    Walnut Creek, CA  Musician/Retired Teacher   \n",
      "1      B.B. Andersen   64  Mission Hills,  KS     Real Estate Developer   \n",
      "2    Stacey Stillman   27  San Francisco,  CA                  Attorney   \n",
      "3        Ramona Gray   29         Edison,  NJ                Biochemist   \n",
      "4          Dirk Been   23   Spring Green,  WI              Dairy Farmer   \n",
      "\n",
      "                                   industry  num_season  finish  winner  \\\n",
      "0                                 Education           1      16       0   \n",
      "1                Real Estate & Construction           1      15       0   \n",
      "2              Law, Public Safety, Military           1      14       0   \n",
      "3  Science, Technology, Engineering, Energy           1      13       0   \n",
      "4               Agriculture and Environment           1      12       0   \n",
      "\n",
      "  gender  black  ...  lgbt  num_appearance       state  country     region  \\\n",
      "0      F      0  ...     1               1  California       US       West   \n",
      "1      M      0  ...     0               1      Kansas       US    Midwest   \n",
      "2      F      0  ...     0               1  California       US       West   \n",
      "3      F      1  ...     0               1  New Jersey       US  Northeast   \n",
      "4      M      0  ...     0               1   Wisconsin       US    Midwest   \n",
      "\n",
      "   birthdate  astrological_sign num_boot initial-tribe tribe_color  \n",
      "0    1/28/37           Aquarius        1          Tagi      Orange  \n",
      "1    1/18/36          Capricorn        2        Pagong      Yellow  \n",
      "2    8/11/72                Leo        3          Tagi      Orange  \n",
      "3    1/20/71           Aquarius        4        Pagong      Yellow  \n",
      "4    6/15/76             Gemini        5          Tagi      Orange  \n",
      "\n",
      "[5 rows x 25 columns]\n"
     ]
    }
   ],
   "source": [
    "import pandas as pd\n",
    "\n",
    "# import the file of contestant data\n",
    "file_path = '/Users/ginagrainda/Desktop/Survivor Data Project/survivor_contestants.csv'\n",
    "\n",
    "df = pd.read_csv(file_path)\n",
    "\n",
    "print(df.head())"
   ]
  },
  {
   "cell_type": "code",
   "execution_count": 4,
   "id": "cce0de38",
   "metadata": {},
   "outputs": [
    {
     "name": "stdout",
     "output_type": "stream",
     "text": [
      "     contestant_name  age            hometown                profession  \\\n",
      "0  Sonja Christopher   63    Walnut Creek, CA  Musician/Retired Teacher   \n",
      "1      B.B. Andersen   64  Mission Hills,  KS     Real Estate Developer   \n",
      "2    Stacey Stillman   27  San Francisco,  CA                  Attorney   \n",
      "3        Ramona Gray   29         Edison,  NJ                Biochemist   \n",
      "4          Dirk Been   23   Spring Green,  WI              Dairy Farmer   \n",
      "\n",
      "   num_season  finish  winner  black  asian  latinx  ...  \\\n",
      "0           1      16       0      0      0       0  ...   \n",
      "1           1      15       0      0      0       0  ...   \n",
      "2           1      14       0      0      0       0  ...   \n",
      "3           1      13       0      1      0       0  ...   \n",
      "4           1      12       0      0      0       0  ...   \n",
      "\n",
      "   astrological_sign_Virgo  tribe_color_Black  tribe_color_Blue  \\\n",
      "0                        0                  0                 0   \n",
      "1                        0                  0                 0   \n",
      "2                        0                  0                 0   \n",
      "3                        0                  0                 0   \n",
      "4                        0                  0                 0   \n",
      "\n",
      "   tribe_color_Brown  tribe_color_Green tribe_color_Orange tribe_color_Pink  \\\n",
      "0                  0                  0                  1                0   \n",
      "1                  0                  0                  0                0   \n",
      "2                  0                  0                  1                0   \n",
      "3                  0                  0                  0                0   \n",
      "4                  0                  0                  1                0   \n",
      "\n",
      "   tribe_color_Purple tribe_color_Red  tribe_color_Yellow  \n",
      "0                   0               0                   0  \n",
      "1                   0               0                   1  \n",
      "2                   0               0                   0  \n",
      "3                   0               0                   1  \n",
      "4                   0               0                   0  \n",
      "\n",
      "[5 rows x 121 columns]\n"
     ]
    }
   ],
   "source": [
    "# One-hot encode categorical data (industry, gender, state, region, astrological_sign, tribe_color) to binary fields\n",
    "encoded_df = pd.get_dummies(df, columns = ['industry', 'gender', 'state','region', 'astrological_sign', 'tribe_color'], drop_first = False)\n",
    "\n",
    "# Convert all boolean columns to 0 and 1, instead of True/False\n",
    "boolean_columns = encoded_df.select_dtypes(include='bool').columns  \n",
    "encoded_df[boolean_columns] = encoded_df[boolean_columns].astype(int)\n",
    "\n",
    "print(encoded_df.head())"
   ]
  },
  {
   "cell_type": "code",
   "execution_count": 5,
   "id": "23ad353b",
   "metadata": {},
   "outputs": [
    {
     "name": "stdout",
     "output_type": "stream",
     "text": [
      "winner\n",
      "0    0.943981\n",
      "1    0.056019\n",
      "Name: proportion, dtype: float64\n"
     ]
    }
   ],
   "source": [
    "print(encoded_df['winner'].value_counts(normalize=True))"
   ]
  }
 ],
 "metadata": {
  "kernelspec": {
   "display_name": "Python 3 (ipykernel)",
   "language": "python",
   "name": "python3"
  },
  "language_info": {
   "codemirror_mode": {
    "name": "ipython",
    "version": 3
   },
   "file_extension": ".py",
   "mimetype": "text/x-python",
   "name": "python",
   "nbconvert_exporter": "python",
   "pygments_lexer": "ipython3",
   "version": "3.11.5"
  }
 },
 "nbformat": 4,
 "nbformat_minor": 5
}
