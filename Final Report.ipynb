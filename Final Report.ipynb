{
 "cells": [
  {
   "cell_type": "markdown",
   "id": "e669a6b8",
   "metadata": {},
   "source": [
    "# Introduction\n",
    "Survivor is an adventure competition reality show where contestants navigate physical challenges, strategic gameplay, and social dynamics to outwit, outplay, and outlast their competitors. With a million prize awarded to the Sole Survivor, players vote off fellow tribe members, who later comprise the jury and determine the winner. This data project seeks to answer whether we can predict the winner of Survivor based on player attributes derived from constestant data, offering insights into the traits that lead to success in the game.\n",
    "\n",
    "\n",
    "# Exploratory Data Analysis\n",
    "Since its debut on May 31, 2000, Survivor is in its 47th season, featuring 715 unique players, with near-equal representation between male and female contestants. Of these contestants, 104 have played more than once, with Rob “Boston Rob” Mariano holding the record for most appearances at five seasons. Contestants have ranged in age from 18 (Will Wahl in Season 33) to 75 (Rudy Boesch in Season 8). Approximately 31.6% of players are black, indigenous, or people of color (BIPOC). This a figure expected to rise following CBS’s 2020 diversity pledge, which mandates at least half of the cast be BIPOC. \n",
    "\n",
    "The show has also evolved over time, with \"Old School\" seasons (1–40) and the \"New Era\" (41-present). Old School Survivor featured 39 days of gameplay and is characterized by a greater emphasis on survival and loyal social dynamics. In contrast, the New Era has a shortened format of 26 days and features more twists, advantages, and diverse casts, leading to a greater emphasis on strategy and making \"big moves.\" Across the 46 completed seasons, 44 contestants have won the title, with Sandra Diaz-Twine and Tony Vlachos being the only two-time winners. Male winners make up 59.09% of the total, with 28.3% of winners identifying as BIPOC. The most common professions among winners include Business/Finance/Administrative, Law/Public Safety/Military, and Education.\n",
    "\n",
    "\n",
    "# Method\n",
    "To build a robust dataset, I sourced data for Seasons 1–43 from Kaggle and manually created data for Seasons 44–47 based on the Survivor Fandom Wiki to ensure completeness. I consolidated contestants' professions into 17 distinct industry categories to improve model usability and added \"fun\" features like astrological sign and tribe color to explore their predictive value. Recognizing poor correlation among features, I selected a nonlinear model, XGBoost, to better capture relationships in the imbalanced dataset. Additionally, I engineered five interaction features based on patterns observed in prior winners:\n",
    "\n",
    "- **Men from the West** have a higher chance of winning (Brian Heidik, Aras Baskauskas, Yul Kwon, Earl Cole, Todd Herzog, Fabio Birza, Tyson Apostol, Adam Klein, Ben Driebergen, Mike Gabler)\n",
    "- **Women aged 26–35** are more likely to win (Sandra Diaz-Twine, Danni Boatwright, Natalie White, Kim Spradlin-Wolfe, Natalie Anderson, Sarah Lacina, Erika Casupanan, Dee Valladares, Kenzie Petty)\n",
    "- **POC contestants aged 26–35** show a stronger likelihood of success (Vecepia Towery, Sandra Diaz-Twine, Natalie Anderson, Erika Casupanan, Maryanne Oketch, Dee Valladares)\n",
    "- **Women in the New Era** perform better (Erika Casupanan, Maryanne Oketch, Dee Valladares, Kenzie Petty)\n",
    "\n",
    "A fun feature testing whether **Capricorns on blue tribes** (Denise Stapley,Ben Driebergen) perform better was also included. Using exploratory analysis, I selected 10 primary features, including gender, industry, region, age band, and tribe color, to inform the model’s predictions.\n",
    "\n",
    "\n",
    "# Results & Discussion\n",
    "The model demonstrated strong predictive performance, correctly identifying traits that significantly contribute to success in Survivor. Among the most influential features were age and occupation, which align with patterns observed in past winners. Additionally, factors like gender and region acted as proxies for performance in social dynamics, an integral part of the game. \n",
    "\n",
    "The model initially predicted **Genevieve Mushaluk** as the winner, who was ultimately voted out during Part 1 of the finale on December 11, 2024. A cunning strategist, her gameplay was characterized by her calculated approach, where she prioritized strategy over emotions. However, fellow contestants caught on to her ability to dictate votes, recognizing her as a significant threat, and voted her out at the Final 5.\n",
    "\n",
    "The model identified **Rachel LaMont** as the next most likely winner, who remains in the final four and will vie for the title of Sole Survivor in the Season 47 finale. While the model demonstrated promising results, the inability to predict the winner outright suggests room for refinement, including exploring additional interactions and features. The final test of the model’s performance will come during the live finale on December 18, 2024, where its secondary prediction of Rachel LaMont will be put to the ultimate test."
   ]
  }
 ],
 "metadata": {
  "kernelspec": {
   "display_name": "Python 3 (ipykernel)",
   "language": "python",
   "name": "python3"
  },
  "language_info": {
   "codemirror_mode": {
    "name": "ipython",
    "version": 3
   },
   "file_extension": ".py",
   "mimetype": "text/x-python",
   "name": "python",
   "nbconvert_exporter": "python",
   "pygments_lexer": "ipython3",
   "version": "3.11.5"
  }
 },
 "nbformat": 4,
 "nbformat_minor": 5
}
