{
 "cells": [
  {
   "cell_type": "code",
   "execution_count": 69,
   "id": "3e6106c4",
   "metadata": {},
   "outputs": [],
   "source": [
    "import pandas as pd\n",
    "import pickle\n",
    "\n",
    "# Load season 47 data - the finale airs Wednesday, December 12, 2024 and is the season I'm trying to predict the winner! \n",
    "file_path_season_47 = '/Users/ginagrainda/Desktop/survivor_data/survivor_season_47.csv'\n",
    "survivor_47_data = pd.read_csv(file_path_season_47)"
   ]
  },
  {
   "cell_type": "code",
   "execution_count": 73,
   "id": "f5b2c882",
   "metadata": {},
   "outputs": [
    {
     "name": "stdout",
     "output_type": "stream",
     "text": [
      "   gender_M  industry_Law, Public Safety, Military  \\\n",
      "0         1                                      0   \n",
      "1         1                                      0   \n",
      "2         0                                      0   \n",
      "3         1                                      0   \n",
      "4         0                                      0   \n",
      "\n",
      "   industry_Business, Finance, Administrative  \\\n",
      "0                                           0   \n",
      "1                                           0   \n",
      "2                                           0   \n",
      "3                                           0   \n",
      "4                                           0   \n",
      "\n",
      "   industry_Arts, Media, Entertainment  \\\n",
      "0                                    1   \n",
      "1                                    0   \n",
      "2                                    0   \n",
      "3                                    0   \n",
      "4                                    0   \n",
      "\n",
      "   industry_Advertising, Marketing, Sales  region_Northeast  region_West  \\\n",
      "0                                       0                 0            1   \n",
      "1                                       1                 1            0   \n",
      "2                                       0                 0            0   \n",
      "3                                       0                 0            1   \n",
      "4                                       1                 0            1   \n",
      "\n",
      "   age_band_26-35  tribe_color_Blue  tribe_color_Yellow  \\\n",
      "0               0                 0                   1   \n",
      "1               1                 1                   0   \n",
      "2               1                 0                   0   \n",
      "3               1                 0                   0   \n",
      "4               1                 0                   1   \n",
      "\n",
      "   gender_man_and_region_West  gender_woman_and_age_26_35  poc_and_age_26_35  \\\n",
      "0                           1                           0                  0   \n",
      "1                           0                           0                  1   \n",
      "2                           0                           1                  1   \n",
      "3                           1                           0                  1   \n",
      "4                           0                           1                  1   \n",
      "\n",
      "   gender_woman_and_new_era_season  tribe_blue_and_capricorn  \n",
      "0                                0                         0  \n",
      "1                                0                         0  \n",
      "2                                1                         0  \n",
      "3                                0                         0  \n",
      "4                                1                         0  \n"
     ]
    }
   ],
   "source": [
    "# Add interaction features\n",
    "survivor_47_data['gender_man_and_region_West'] = survivor_47_data['gender_M'] * survivor_47_data['region_West']\n",
    "survivor_47_data['gender_woman_and_age_26_35'] = survivor_47_data['gender_F'] * survivor_47_data['age_band_26-35'] \n",
    "survivor_47_data['poc_and_age_26_35'] = survivor_47_data['poc'] * survivor_47_data['age_band_26-35']\n",
    "survivor_47_data['gender_woman_and_new_era_season'] = survivor_47_data['gender_F'] * survivor_47_data['new_era_season']\n",
    "survivor_47_data['tribe_blue_and_capricorn'] = survivor_47_data['tribe_color_Blue'] * survivor_47_data['astrological_sign_Capricorn']\n",
    "\n",
    "# Select features of interest into a new data frame\n",
    "features = [\n",
    "    'gender_M',\n",
    "    'industry_Law, Public Safety, Military',\n",
    "    'industry_Business, Finance, Administrative',\n",
    "    'industry_Arts, Media, Entertainment',\n",
    "    'industry_Advertising, Marketing, Sales',\n",
    "    'region_Northeast',\n",
    "    'region_West',\n",
    "    'age_band_26-35',\n",
    "    'tribe_color_Blue',\n",
    "    'tribe_color_Yellow',\n",
    "    # Interaction features\n",
    "    'gender_man_and_region_West', \n",
    "    'gender_woman_and_age_26_35',\n",
    "    'poc_and_age_26_35', \n",
    "    'gender_woman_and_new_era_season',\n",
    "    'tribe_blue_and_capricorn'\n",
    "]\n",
    "processed_47_data = survivor_47_data[features]\n",
    "print(processed_47_data.head(5))"
   ]
  },
  {
   "cell_type": "code",
   "execution_count": 74,
   "id": "1b1e7801",
   "metadata": {},
   "outputs": [],
   "source": [
    "# Load the pre-trained model\n",
    "model_path = '/Users/ginagrainda/Desktop/survivor_data/survivor_winner_model.pkl'\n",
    "with open(model_path, 'rb') as file:\n",
    "    model = pickle.load(file)"
   ]
  },
  {
   "cell_type": "code",
   "execution_count": 75,
   "id": "4100c505",
   "metadata": {},
   "outputs": [
    {
     "name": "stdout",
     "output_type": "stream",
     "text": [
      "The predicted winner of Season 47 is Genevieve Mushaluk.\n"
     ]
    }
   ],
   "source": [
    "# Make predictions\n",
    "predictions = model.predict(processed_47_data)\n",
    "\n",
    "# If model supports predict_proba, get probabilities to create a winner index\n",
    "if hasattr(model, 'predict_proba'):\n",
    "    prediction_probs = model.predict_proba(processed_47_data)\n",
    "    winner_index = prediction_probs[:, 1].argmax()  # Index of participant with highest probability of winning\n",
    "else:\n",
    "    winner_index = predictions.argmax()  # Use predicted classes if probabilities are not available\n",
    "\n",
    "# Extract the predicted winner\n",
    "predicted_winner = encoded_47_data.iloc[winner_index]\n",
    "\n",
    "\n",
    "# Print the winner's name or identifier\n",
    "winner_name = predicted_winner.get('contestant_name', 'Unknown')  \n",
    "print(f\"The predicted winner of Season 47 is {winner_name}.\")"
   ]
  },
  {
   "cell_type": "code",
   "execution_count": 84,
   "id": "dcb6d4c3",
   "metadata": {},
   "outputs": [],
   "source": [
    "# Genevieve Mushaluk was voted out in Part I of the season finale. The model seems to be effective, though, as she played a great game!\n",
    "# In an effort to predict the actual winner, I am testing the model on the remaining 4 contestants: Rachel LaMont, Sue Smey, Teeny Chirichillo, and Sam Phelan\n",
    "\n",
    "# Load season 47 data and select ONLY the 4 remaining contestants\n",
    "file_path_season_47 = '/Users/ginagrainda/Desktop/survivor_data/survivor_season_47.csv'\n",
    "survivor_47_data = pd.read_csv(file_path_season_47)\n",
    "final_4_names = ['Rachel LaMont', 'Sue Smey', 'Teeny Chirichillo', 'Sam Phalen']\n",
    "final_4_data = season_47_data[season_47_data['contestant_name'].isin(final_4_names)]"
   ]
  },
  {
   "cell_type": "code",
   "execution_count": 85,
   "id": "b11c2c4b",
   "metadata": {},
   "outputs": [
    {
     "name": "stdout",
     "output_type": "stream",
     "text": [
      "      contestant_name  age           hometown           profession  \\\n",
      "14      Rachel LaMont   34     Southfield, MI     Graphic Designer   \n",
      "15         Sam Phalen   24      Nashville, TN      Sports Reporter   \n",
      "16           Sue Smey   58  Putnam Valley, NY  Flight School Owner   \n",
      "17  Teeny Chirichillo   23     Manahawkin, NJ     Freelance Writer   \n",
      "\n",
      "    num_season  old_school_season  new_era_season  finish  winner  black  ...  \\\n",
      "14          47                  0               1     NaN     NaN      0  ...   \n",
      "15          47                  0               1     NaN     NaN      0  ...   \n",
      "16          47                  0               1     NaN     NaN      0  ...   \n",
      "17          47                  0               1     NaN     NaN      0  ...   \n",
      "\n",
      "       region  astrological_sign  tribe_color  age_band  age_band_18-25  \\\n",
      "14    Midwest             Pisces       Yellow     26-35               0   \n",
      "15      South              Aries       Yellow     18-25               1   \n",
      "16  Northeast             Gemini         Blue     56-65               0   \n",
      "17  Northeast              Virgo          Red     18-25               1   \n",
      "\n",
      "    age_band_26-35  age_band_36-45  age_band_46-55 age_band_56-65  \\\n",
      "14               1               0               0              0   \n",
      "15               0               0               0              0   \n",
      "16               0               0               0              1   \n",
      "17               0               0               0              0   \n",
      "\n",
      "   age_band_66-75  \n",
      "14              0  \n",
      "15              0  \n",
      "16              0  \n",
      "17              0  \n",
      "\n",
      "[4 rows x 83 columns]\n"
     ]
    }
   ],
   "source": [
    "print(final_4_data)"
   ]
  },
  {
   "cell_type": "code",
   "execution_count": 89,
   "id": "16383d4a",
   "metadata": {},
   "outputs": [],
   "source": [
    "# Make a copy of final_4_data to avoid SettingWithCopyWarning\n",
    "final_4_data = final_4_data.copy()\n",
    "\n",
    "# Add interaction features for the final 4 contestants\n",
    "final_4_data.loc[:, 'gender_man_and_region_West'] = final_4_data['gender_M'] * final_4_data['region_West']\n",
    "final_4_data.loc[:, 'gender_woman_and_age_26_35'] = final_4_data['gender_F'] * final_4_data['age_band_26-35']\n",
    "final_4_data.loc[:, 'poc_and_age_26_35'] = final_4_data['poc'] * final_4_data['age_band_26-35']\n",
    "final_4_data.loc[:, 'gender_woman_and_new_era_season'] = final_4_data['gender_F'] * final_4_data['new_era_season']\n",
    "final_4_data.loc[:, 'tribe_blue_and_capricorn'] = final_4_data['tribe_color_Blue'] * final_4_data['astrological_sign_Capricorn']\n",
    "\n",
    "# Select features of interest into a new data frame\n",
    "features = [\n",
    "    'gender_M',\n",
    "    'industry_Law, Public Safety, Military',\n",
    "    'industry_Business, Finance, Administrative',\n",
    "    'industry_Arts, Media, Entertainment',\n",
    "    'industry_Advertising, Marketing, Sales',\n",
    "    'region_Northeast',\n",
    "    'region_West',\n",
    "    'age_band_26-35',\n",
    "    'tribe_color_Blue',\n",
    "    'tribe_color_Yellow',\n",
    "    # Interaction features\n",
    "    'gender_man_and_region_West', \n",
    "    'gender_woman_and_age_26_35',\n",
    "    'poc_and_age_26_35', \n",
    "    'gender_woman_and_new_era_season',\n",
    "    'tribe_blue_and_capricorn'\n",
    "]\n",
    "processed_final_4_data = final_4_data[features]"
   ]
  },
  {
   "cell_type": "code",
   "execution_count": 91,
   "id": "55ca0aa0",
   "metadata": {},
   "outputs": [
    {
     "name": "stdout",
     "output_type": "stream",
     "text": [
      "The predicted winner of Season 47 is Rachel LaMont.\n"
     ]
    }
   ],
   "source": [
    "# Make predictions\n",
    "predictions = model.predict(processed_final_4_data)\n",
    "\n",
    "# If model supports predict_proba, get probabilities to create a winner index\n",
    "if hasattr(model, 'predict_proba'):\n",
    "    prediction_probs = model.predict_proba(processed_final_4_data)\n",
    "    winner_index = prediction_probs[:, 1].argmax()  # Index of participant with highest probability of winning\n",
    "else:\n",
    "    winner_index = predictions.argmax()  # Use predicted classes if probabilities are not available\n",
    "\n",
    "# Extract the predicted winner\n",
    "predicted_winner = final_4_data.iloc[winner_index]\n",
    "\n",
    "\n",
    "# Print the winner's name or identifier\n",
    "winner_name = predicted_winner.get('contestant_name', 'Unknown')  \n",
    "print(f\"The predicted winner of Season 47 is {winner_name}.\")"
   ]
  }
 ],
 "metadata": {
  "kernelspec": {
   "display_name": "Python 3 (ipykernel)",
   "language": "python",
   "name": "python3"
  },
  "language_info": {
   "codemirror_mode": {
    "name": "ipython",
    "version": 3
   },
   "file_extension": ".py",
   "mimetype": "text/x-python",
   "name": "python",
   "nbconvert_exporter": "python",
   "pygments_lexer": "ipython3",
   "version": "3.11.5"
  }
 },
 "nbformat": 4,
 "nbformat_minor": 5
}
