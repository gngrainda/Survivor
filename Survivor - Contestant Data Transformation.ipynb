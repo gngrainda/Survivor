{
 "cells": [
  {
   "cell_type": "code",
   "execution_count": 11,
   "id": "7261380b",
   "metadata": {},
   "outputs": [],
   "source": [
    "import pandas as pd\n",
    "\n",
    "# import the file of contestant data\n",
    "file_path = '/Users/ginagrainda/Desktop/GitHub/Survivor/survivor_contestants.csv'\n",
    "\n",
    "df = pd.read_csv(file_path)"
   ]
  },
  {
   "cell_type": "code",
   "execution_count": 13,
   "id": "cce0de38",
   "metadata": {},
   "outputs": [
    {
     "name": "stdout",
     "output_type": "stream",
     "text": [
      "     contestant_name  age            hometown                profession  \\\n",
      "0  Sonja Christopher   63    Walnut Creek, CA  Musician/Retired Teacher   \n",
      "1      B.B. Andersen   64  Mission Hills,  KS     Real Estate Developer   \n",
      "2    Stacey Stillman   27  San Francisco,  CA                  Attorney   \n",
      "3        Ramona Gray   29         Edison,  NJ                Biochemist   \n",
      "4          Dirk Been   23   Spring Green,  WI              Dairy Farmer   \n",
      "\n",
      "   num_season  finish  winner  black  asian  latinx  ...  tribe_color_Pink  \\\n",
      "0           1      16       0      0      0       0  ...                 0   \n",
      "1           1      15       0      0      0       0  ...                 0   \n",
      "2           1      14       0      0      0       0  ...                 0   \n",
      "3           1      13       0      1      0       0  ...                 0   \n",
      "4           1      12       0      0      0       0  ...                 0   \n",
      "\n",
      "   tribe_color_Purple  tribe_color_Red  tribe_color_Yellow  \\\n",
      "0                   0                0                   0   \n",
      "1                   0                0                   1   \n",
      "2                   0                0                   0   \n",
      "3                   0                0                   1   \n",
      "4                   0                0                   0   \n",
      "\n",
      "                                   industry gender       state     region  \\\n",
      "0                                 Education      F  California       West   \n",
      "1                Real Estate & Construction      M      Kansas    Midwest   \n",
      "2              Law, Public Safety, Military      F  California       West   \n",
      "3  Science, Technology, Engineering, Energy      F  New Jersey  Northeast   \n",
      "4               Agriculture and Environment      M   Wisconsin    Midwest   \n",
      "\n",
      "  astrological_sign  tribe_color  \n",
      "0          Aquarius       Orange  \n",
      "1         Capricorn       Yellow  \n",
      "2               Leo       Orange  \n",
      "3          Aquarius       Yellow  \n",
      "4            Gemini       Orange  \n",
      "\n",
      "[5 rows x 127 columns]\n"
     ]
    }
   ],
   "source": [
    "# One-hot encode categorical data (industry, gender, state, region, astrological_sign, tribe_color) to binary fields\n",
    "# Retain a copy of the original categorical columns\n",
    "original_columns = df[['industry', 'gender', 'state', 'region', 'astrological_sign', 'tribe_color']]\n",
    "encoded_df = pd.get_dummies(df, columns = ['industry', 'gender', 'state','region', 'astrological_sign', 'tribe_color'], drop_first = False)\n",
    "encoded_df = pd.concat([encoded_df, original_columns], axis=1)\n",
    "\n",
    "# Convert all boolean columns to 0 and 1, instead of True/False\n",
    "boolean_columns = encoded_df.select_dtypes(include='bool').columns  \n",
    "encoded_df[boolean_columns] = encoded_df[boolean_columns].astype(int)\n",
    "\n",
    "print(encoded_df.head())"
   ]
  },
  {
   "cell_type": "code",
   "execution_count": 14,
   "id": "23ad353b",
   "metadata": {},
   "outputs": [],
   "source": [
    "# Save the DataFrame to a CSV file\n",
    "encoded_df.to_csv('/Users/ginagrainda/Desktop/GitHub/Survivor/survivor_contestants_encoded.csv', index=False)"
   ]
  }
 ],
 "metadata": {
  "kernelspec": {
   "display_name": "Python 3 (ipykernel)",
   "language": "python",
   "name": "python3"
  },
  "language_info": {
   "codemirror_mode": {
    "name": "ipython",
    "version": 3
   },
   "file_extension": ".py",
   "mimetype": "text/x-python",
   "name": "python",
   "nbconvert_exporter": "python",
   "pygments_lexer": "ipython3",
   "version": "3.11.5"
  }
 },
 "nbformat": 4,
 "nbformat_minor": 5
}
