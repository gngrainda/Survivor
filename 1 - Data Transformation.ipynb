{
 "cells": [
  {
   "cell_type": "code",
   "execution_count": 9,
   "id": "7261380b",
   "metadata": {},
   "outputs": [],
   "source": [
    "import pandas as pd\n",
    "\n",
    "# import the file of contestant data\n",
    "file_path = '/Users/ginagrainda/Desktop/survivor_data/survivor_contestants.csv'\n",
    "\n",
    "df = pd.read_csv(file_path)"
   ]
  },
  {
   "cell_type": "code",
   "execution_count": 12,
   "id": "84b63de7",
   "metadata": {},
   "outputs": [],
   "source": [
    "# One-hot encode categorical data (industry, gender, state, region, astrological_sign, tribe_color) to binary fields\n",
    "# Retain a copy of the original categorical columns\n",
    "original_columns = df[['industry', 'gender', 'state', 'region', 'astrological_sign', 'tribe_color']]\n",
    "encoded_df = pd.get_dummies(df, columns = ['industry', 'gender', 'state','region', 'astrological_sign', 'tribe_color'], drop_first = False)\n",
    "encoded_df = pd.concat([encoded_df, original_columns], axis=1)\n",
    "\n",
    "# Add age bands\n",
    "bins = [18, 25, 35, 45, 55, 65, 75]\n",
    "labels = ['18-25', '26-35', '36-45', '46-55', '56-65', '66-75']\n",
    "\n",
    "encoded_df['age_band'] = pd.cut(encoded_df['age'], bins=bins, labels=labels, right=True)\n",
    "age_band_encoded = pd.get_dummies(encoded_df['age_band'], prefix='age_band', drop_first=False)\n",
    "encoded_df = pd.concat([encoded_df, age_band_encoded], axis=1)"
   ]
  },
  {
   "cell_type": "code",
   "execution_count": 13,
   "id": "982a1d4f",
   "metadata": {},
   "outputs": [
    {
     "name": "stdout",
     "output_type": "stream",
     "text": [
      "     contestant_name  age            hometown                profession  \\\n",
      "0  Sonja Christopher   63    Walnut Creek, CA  Musician/Retired Teacher   \n",
      "1      B.B. Andersen   64  Mission Hills,  KS     Real Estate Developer   \n",
      "2    Stacey Stillman   27  San Francisco,  CA                  Attorney   \n",
      "3        Ramona Gray   29         Edison,  NJ                Biochemist   \n",
      "4          Dirk Been   23   Spring Green,  WI              Dairy Farmer   \n",
      "\n",
      "   num_season  finish  winner  black  asian  latinx  ...     region  \\\n",
      "0           1      16       0      0      0       0  ...       West   \n",
      "1           1      15       0      0      0       0  ...    Midwest   \n",
      "2           1      14       0      0      0       0  ...       West   \n",
      "3           1      13       0      1      0       0  ...  Northeast   \n",
      "4           1      12       0      0      0       0  ...    Midwest   \n",
      "\n",
      "   astrological_sign  tribe_color  age_band  age_band_18-25 age_band_26-35  \\\n",
      "0           Aquarius       Orange     56-65               0              0   \n",
      "1          Capricorn       Yellow     56-65               0              0   \n",
      "2                Leo       Orange     26-35               0              1   \n",
      "3           Aquarius       Yellow     26-35               0              1   \n",
      "4             Gemini       Orange     18-25               1              0   \n",
      "\n",
      "  age_band_36-45  age_band_46-55 age_band_56-65  age_band_66-75  \n",
      "0              0               0              1               0  \n",
      "1              0               0              1               0  \n",
      "2              0               0              0               0  \n",
      "3              0               0              0               0  \n",
      "4              0               0              0               0  \n",
      "\n",
      "[5 rows x 134 columns]\n"
     ]
    }
   ],
   "source": [
    "# Convert all boolean columns to 0 and 1, instead of True/False\n",
    "boolean_columns = encoded_df.select_dtypes(include='bool').columns  \n",
    "encoded_df[boolean_columns] = encoded_df[boolean_columns].astype(int)\n",
    "\n",
    "print(encoded_df.head())"
   ]
  },
  {
   "cell_type": "code",
   "execution_count": 14,
   "id": "cce0de38",
   "metadata": {},
   "outputs": [],
   "source": [
    "# Save the DataFrame to a CSV file\n",
    "encoded_df.to_csv('/Users/ginagrainda/Desktop/survivor_data/survivor_contestants_encoded.csv', index=False)"
   ]
  },
  {
   "cell_type": "code",
   "execution_count": 15,
   "id": "23ad353b",
   "metadata": {},
   "outputs": [],
   "source": [
    "# Save the DataFrame to an Excel file\n",
    "encoded_df.to_excel('/Users/ginagrainda/Desktop/survivor_data/survivor_contestants_encoded.xlsx', index=False)"
   ]
  }
 ],
 "metadata": {
  "kernelspec": {
   "display_name": "Python 3 (ipykernel)",
   "language": "python",
   "name": "python3"
  },
  "language_info": {
   "codemirror_mode": {
    "name": "ipython",
    "version": 3
   },
   "file_extension": ".py",
   "mimetype": "text/x-python",
   "name": "python",
   "nbconvert_exporter": "python",
   "pygments_lexer": "ipython3",
   "version": "3.11.5"
  }
 },
 "nbformat": 4,
 "nbformat_minor": 5
}
